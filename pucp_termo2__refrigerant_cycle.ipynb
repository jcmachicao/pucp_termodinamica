{
  "nbformat": 4,
  "nbformat_minor": 0,
  "metadata": {
    "colab": {
      "provenance": [],
      "authorship_tag": "ABX9TyOYvzyQerVae9D3x7LCB//g",
      "include_colab_link": true
    },
    "kernelspec": {
      "name": "python3",
      "display_name": "Python 3"
    },
    "language_info": {
      "name": "python"
    }
  },
  "cells": [
    {
      "cell_type": "markdown",
      "metadata": {
        "id": "view-in-github",
        "colab_type": "text"
      },
      "source": [
        "<a href=\"https://colab.research.google.com/github/jcmachicao/pucp_termodinamica/blob/main/pucp_termo2__refrigerant_cycle.ipynb\" target=\"_parent\"><img src=\"https://colab.research.google.com/assets/colab-badge.svg\" alt=\"Open In Colab\"/></a>"
      ]
    },
    {
      "cell_type": "code",
      "source": [
        "# Install CoolProp if needed\n",
        "!pip install CoolProp"
      ],
      "metadata": {
        "colab": {
          "base_uri": "https://localhost:8080/"
        },
        "id": "eVKQVSlO0v2x",
        "outputId": "3ed6543c-85e6-4d02-89f6-5093bd2def6d"
      },
      "execution_count": 1,
      "outputs": [
        {
          "output_type": "stream",
          "name": "stdout",
          "text": [
            "Collecting CoolProp\n",
            "  Downloading CoolProp-6.7.0-cp311-cp311-manylinux_2_17_x86_64.manylinux2014_x86_64.whl.metadata (555 bytes)\n",
            "Downloading CoolProp-6.7.0-cp311-cp311-manylinux_2_17_x86_64.manylinux2014_x86_64.whl (7.3 MB)\n",
            "\u001b[2K   \u001b[90m━━━━━━━━━━━━━━━━━━━━━━━━━━━━━━━━━━━━━━━━\u001b[0m \u001b[32m7.3/7.3 MB\u001b[0m \u001b[31m47.1 MB/s\u001b[0m eta \u001b[36m0:00:00\u001b[0m\n",
            "\u001b[?25hInstalling collected packages: CoolProp\n",
            "Successfully installed CoolProp-6.7.0\n"
          ]
        }
      ]
    },
    {
      "cell_type": "code",
      "source": [
        "import numpy as np\n",
        "import matplotlib.pyplot as plt\n",
        "from CoolProp.CoolProp import PropsSI"
      ],
      "metadata": {
        "id": "SEwpuGsN0yUL"
      },
      "execution_count": 2,
      "outputs": []
    },
    {
      "cell_type": "code",
      "execution_count": 3,
      "metadata": {
        "colab": {
          "base_uri": "https://localhost:8080/"
        },
        "id": "Ah3RQmRu0ohN",
        "outputId": "5ccd98cb-b1ef-458b-b969-372dec7bf762"
      },
      "outputs": [
        {
          "output_type": "stream",
          "name": "stdout",
          "text": [
            "State 1: T = 273.82 K, P = 3.00 bar, h = 399.00 kJ/kg, s = 1.7267 kJ/kg.K\n",
            "State 2: T = 319.82 K, P = 9.00 bar, h = 429.42 kJ/kg, s = 1.7508 kJ/kg.K\n",
            "State 3: T = 308.68 K, P = 9.00 bar, h = 249.78 kJ/kg, s = 1.1695 kJ/kg.K\n",
            "State 4: T = 273.82 K, P = 3.00 bar, h = 249.78 kJ/kg, s = 1.1818 kJ/kg.K\n"
          ]
        }
      ],
      "source": [
        "# Define refrigerant\n",
        "fluid = 'R134a'\n",
        "\n",
        "# Isentropic efficiency of the compressor (0.75 typical)\n",
        "eta_isentropic = 0.75\n",
        "\n",
        "# Set pressures [Pa]\n",
        "P_evap = 300e3       # Evaporator pressure (low pressure)\n",
        "P_cond = 900e3       # Condenser pressure (high pressure)\n",
        "\n",
        "# Evaporator outlet (State 1) - saturated vapor\n",
        "T1 = PropsSI('T','P',P_evap,'Q',1,fluid)\n",
        "h1 = PropsSI('H','P',P_evap,'Q',1,fluid)\n",
        "s1 = PropsSI('S','P',P_evap,'Q',1,fluid)\n",
        "\n",
        "# Compressor isentropic outlet (State 2s)\n",
        "h2s = PropsSI('H','P',P_cond,'S',s1,fluid)\n",
        "\n",
        "# Actual outlet enthalpy using isentropic efficiency\n",
        "h2 = h1 + (h2s - h1) / eta_isentropic\n",
        "T2 = PropsSI('T','P',P_cond,'H',h2,fluid)\n",
        "s2 = PropsSI('S','P',P_cond,'H',h2,fluid)\n",
        "\n",
        "# Condenser outlet (State 3) - saturated liquid\n",
        "T3 = PropsSI('T','P',P_cond,'Q',0,fluid)\n",
        "h3 = PropsSI('H','P',P_cond,'Q',0,fluid)\n",
        "s3 = PropsSI('S','P',P_cond,'Q',0,fluid)\n",
        "\n",
        "# After expansion valve (State 4) - isenthalpic process\n",
        "h4 = h3\n",
        "T4 = PropsSI('T','P',P_evap,'H',h4,fluid)\n",
        "s4 = PropsSI('S','P',P_evap,'H',h4,fluid)\n",
        "\n",
        "# For diagram plotting\n",
        "states = {\n",
        "    '1': {'P': P_evap, 'T': T1, 'h': h1, 's': s1},\n",
        "    '2': {'P': P_cond, 'T': T2, 'h': h2, 's': s2},\n",
        "    '3': {'P': P_cond, 'T': T3, 'h': h3, 's': s3},\n",
        "    '4': {'P': P_evap, 'T': T4, 'h': h4, 's': s4},\n",
        "}\n",
        "\n",
        "# Print basic state data\n",
        "for i in ['1', '2', '3', '4']:\n",
        "    st = states[i]\n",
        "    print(f\"State {i}: T = {st['T']:.2f} K, P = {st['P']/1e5:.2f} bar, h = {st['h']/1000:.2f} kJ/kg, s = {st['s']/1000:.4f} kJ/kg.K\")"
      ]
    }
  ]
}